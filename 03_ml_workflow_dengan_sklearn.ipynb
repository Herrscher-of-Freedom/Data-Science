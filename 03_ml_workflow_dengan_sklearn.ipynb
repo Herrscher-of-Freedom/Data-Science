{
 "cells": [
  {
   "cell_type": "markdown",
   "metadata": {
    "slideshow": {
     "slide_type": "slide"
    }
   },
   "source": [
    "# 03 Machine Learning Workflow dengan Scikit Learn"
   ]
  },
  {
   "cell_type": "markdown",
   "metadata": {
    "slideshow": {
     "slide_type": "slide"
    }
   },
   "source": [
    "## Persiapan Dataset"
   ]
  },
  {
   "cell_type": "markdown",
   "metadata": {
    "slideshow": {
     "slide_type": "notes"
    }
   },
   "source": [
    "Rangkuman Pembelajaran dikutip dari https://www.youtube.com/watch?v=tiREcHrtDLo"
   ]
  },
  {
   "cell_type": "markdown",
   "metadata": {},
   "source": [
    "#### Load Sample Dataset: Iris Dataset"
   ]
  },
  {
   "cell_type": "code",
   "execution_count": 3,
   "metadata": {},
   "outputs": [],
   "source": [
    "from sklearn.datasets import load_iris\n",
    "\n",
    "iris = load_iris()\n",
    "\n",
    "X = iris.data\n",
    "y = iris.target"
   ]
  },
  {
   "cell_type": "markdown",
   "metadata": {
    "slideshow": {
     "slide_type": "-"
    }
   },
   "source": [
    "Untuk melakukan Load pada Sample Dataset pada Iris Dataset : \n",
    "1. Pertama-tama kita perlu melakukan import load_iris dari sklearn.datasets\n",
    "2. Kemudian kita panggil load_iris dengan menampungnya di satu variabel yaitu iris\n",
    "3. Berikutnya kita akan extract beberapa nilai features dan nilai target \n",
    "4. Nilai features kita tampung ke dalam variabel x\n",
    "5. Nilai target kita tampung ke dalam variabel y"
   ]
  },
  {
   "cell_type": "markdown",
   "metadata": {},
   "source": [
    "#### Splitting Dataset: Training & Testing Set"
   ]
  },
  {
   "cell_type": "code",
   "execution_count": 2,
   "metadata": {},
   "outputs": [],
   "source": [
    "from sklearn.model_selection import train_test_split\n",
    "\n",
    "X_train, X_test, y_train, y_test = train_test_split(X,\n",
    "                                                    y,\n",
    "                                                    test_size=0.4,\n",
    "                                                    random_state=1)"
   ]
  },
  {
   "cell_type": "markdown",
   "metadata": {},
   "source": [
    "- Parameter pertama yakni x merupakan sekumpulan nilai features.\n",
    "- Parameter kedua yakni y merupakan sekumpulan nilai target.\n",
    "- Parameter ketiga yakni test_size merupakan ukuran testing set (saat ini terlihat test_sizenya bernilai 0.4, berarti testing set memiliki proposi 40% dari total keseluruhan dataset sedangkan training set memiliki proposi 60%).\n",
    "- Parameter keempat yakni random_state yang akan digunakan yaitu 1."
   ]
  },
  {
   "cell_type": "markdown",
   "metadata": {
    "slideshow": {
     "slide_type": "slide"
    }
   },
   "source": [
    "## Training Model\n",
    "\n",
    "- Pada Scikit Learn, model machine learning dibentuk dari class yang dikenal dengan istilah **estimator**.\n",
    "- Setiap estimator akan mengimplementasikan dua method utama, yaitu `fit()` dan `predict()`.\n",
    "- Method `fit()` digunakan untuk melakukan training model.\n",
    "- Method `predict()` digunakan untuk melakukan estimasi/prediksi dengan memanfaatkan trained model.\n",
    "\n",
    "Teknik yang digunakan dalam Training Model adalah dengan Machine Learning yakni pendekatan K Nearest Neighbors"
   ]
  },
  {
   "cell_type": "code",
   "execution_count": 4,
   "metadata": {},
   "outputs": [
    {
     "data": {
      "text/plain": [
       "KNeighborsClassifier(algorithm='auto', leaf_size=30, metric='minkowski',\n",
       "                     metric_params=None, n_jobs=None, n_neighbors=3, p=2,\n",
       "                     weights='uniform')"
      ]
     },
     "execution_count": 4,
     "metadata": {},
     "output_type": "execute_result"
    }
   ],
   "source": [
    "from sklearn.neighbors import KNeighborsClassifier\n",
    "\n",
    "model = KNeighborsClassifier(n_neighbors=3)\n",
    "model.fit(X_train, y_train)"
   ]
  },
  {
   "cell_type": "markdown",
   "metadata": {
    "slideshow": {
     "slide_type": "-"
    }
   },
   "source": [
    "- Pembentukan objek ini membutuhkan sebuah parameter yaitu n_neighbors. Parameter ini dibutuhkan karena objek yang ingin dibentuk berasal dari Klasifikasi K-Nearest Neighbors dan jumlah tetangganya perlu dispesifikasikan.\n",
    "- Objek model yang terbentuk akan ditampung dalam variabel model.\n",
    "- Model akan ditraining dengan method fit().\n",
    "- Proses training akan menggunakan training set (x_train, y_train).\n",
    "- Model yang sudah ditraining menjadi trained model."
   ]
  },
  {
   "cell_type": "markdown",
   "metadata": {
    "slideshow": {
     "slide_type": "slide"
    }
   },
   "source": [
    "## Evaluasi Model\n",
    "\n",
    "Testing Set digunakan untuk melakukan proses evaluasi atau testing performa dari model yang ditraining sebelumnya."
   ]
  },
  {
   "cell_type": "code",
   "execution_count": 4,
   "metadata": {},
   "outputs": [
    {
     "name": "stdout",
     "output_type": "stream",
     "text": [
      "Accuracy: 0.9833333333333333\n"
     ]
    }
   ],
   "source": [
    "from sklearn.metrics import accuracy_score\n",
    "\n",
    "y_pred = model.predict(X_test)\n",
    "acc = accuracy_score(y_test, y_pred)\n",
    "print(f'Accuracy: {acc}')"
   ]
  },
  {
   "cell_type": "markdown",
   "metadata": {},
   "source": [
    "- Accuracy_score merupakan salah satu metrics untuk melakukan proses evaluasi dari suatu model.\n",
    "- Tahap ini melakukan prediksi terhadap nilai features(x_test) yang ada dalam testing dataset.\n",
    "- Hasil prediksi akan ditampung dalam variable y_pred.\n",
    "- Proses evaluasi akan membandingan nilai target (y_test) dengan nilai prediksi (y_pred) menggunakan accuracy_score.\n",
    "- Nilai accuracy ditampung dalam variable acc.\n",
    "- Dalam kasus ini accuracy yang diperoleh 0.9833333333333333 yang berarti nilai accuracy dari model ini adalah 98% dan kesimpulannya nilai dari accuracynya sangat baik."
   ]
  },
  {
   "cell_type": "markdown",
   "metadata": {
    "slideshow": {
     "slide_type": "slide"
    }
   },
   "source": [
    "## Pemanfaatan Trained Model\n",
    "\n",
    "Jika trained model dinilai cukup baik berdasarkan hasil evaluasi, maka model yang di training tersebut dapat digunakan untuk memprediksi data baru."
   ]
  },
  {
   "cell_type": "code",
   "execution_count": 5,
   "metadata": {},
   "outputs": [
    {
     "data": {
      "text/plain": [
       "array([1, 2])"
      ]
     },
     "execution_count": 5,
     "metadata": {},
     "output_type": "execute_result"
    }
   ],
   "source": [
    "data_baru = [[5, 5, 3, 2], \n",
    "             [2, 4, 3, 5]]\n",
    "\n",
    "preds =  model.predict(data_baru)\n",
    "preds\n",
    "\n",
    "#model.predict merupakan method untuk mempredict data barunya"
   ]
  },
  {
   "cell_type": "markdown",
   "metadata": {},
   "source": [
    "- Data baru hanya memiliki sekumpulan nilai features namun tidak untuk nilai target. Maka dimanfaatkanlah trained model sebelumnya untuk melakukan prediksi dari sekumpulan nilai features yang ada.\n",
    "- Dataset terdiri dari 2 instances/row/baris, dimana setiap baris terbagi dalam 4 nilai features.\n",
    "- nilai pertama adalah [5,5,3,2]\n",
    "- nilai kedua adalah [2,4,3,5] \n",
    "- Dataset tersebut akan menghasilkan array([1, 2]) dimana baris pertama memiliki prediksi nilai target 1 dan baris kedua memiliki prediksi nilai target 2.\n",
    "- Nilai 1 dan 2 perlu dikonfirmasikan dengan target namesnya. "
   ]
  },
  {
   "cell_type": "code",
   "execution_count": 6,
   "metadata": {},
   "outputs": [
    {
     "name": "stdout",
     "output_type": "stream",
     "text": [
      "Hasil Prediksi: ['versicolor', 'virginica']\n"
     ]
    }
   ],
   "source": [
    "pred_species = [iris.target_names[p] for p in preds] \n",
    "print(f'Hasil Prediksi: {pred_species}')\n",
    "\n",
    "#variabel penampung pred_species berfungsi memanggil target names yang kita mappingkan dengan nilai hasil prediksi. "
   ]
  },
  {
   "cell_type": "markdown",
   "metadata": {},
   "source": [
    "Kesimpulan Hasil Prediksi\n",
    "Array 1 / Data pertama [5,5,3,2] diprediksi merupakan klasifikasi iris spesies versicolor\n",
    "Array 2 / Data kedua [2,4,3,5] diprediksi merupakan klasifikasi iris spesies virginica"
   ]
  },
  {
   "cell_type": "markdown",
   "metadata": {
    "slideshow": {
     "slide_type": "slide"
    }
   },
   "source": [
    "## Dump & Load Trained Model"
   ]
  },
  {
   "cell_type": "markdown",
   "metadata": {},
   "source": [
    "#### Dumping Model Machine Learning menjadi file `joblib`"
   ]
  },
  {
   "cell_type": "code",
   "execution_count": 5,
   "metadata": {},
   "outputs": [
    {
     "data": {
      "text/plain": [
       "['iris_classifier_knn.joblib']"
      ]
     },
     "execution_count": 5,
     "metadata": {},
     "output_type": "execute_result"
    }
   ],
   "source": [
    "import joblib\n",
    "\n",
    "joblib.dump(model, 'iris_classifier_knn.joblib')"
   ]
  },
  {
   "cell_type": "markdown",
   "metadata": {},
   "source": [
    "Proses joblib.dump membutuhkan 2 parameter : \n",
    "1. Parameter Pertama adalah model yang merupakan train model yang akan kita dump\n",
    "2. Parameter kedua adalah nama file joblibnya\n",
    "\n",
    "Setelah dieksekusi maka akan terbentuk file bernama iris_classifier_knn dengan format file joblib."
   ]
  },
  {
   "cell_type": "markdown",
   "metadata": {},
   "source": [
    "#### Loading Model Machine Learning dari file `joblib`"
   ]
  },
  {
   "cell_type": "code",
   "execution_count": 6,
   "metadata": {},
   "outputs": [],
   "source": [
    "production_model = joblib.load('iris_classifier_knn.joblib')"
   ]
  },
  {
   "cell_type": "markdown",
   "metadata": {},
   "source": [
    "Hasil dari load adalah Machine Learning model yang sudah kita training sebelumnya. "
   ]
  }
 ],
 "metadata": {
  "celltoolbar": "Slideshow",
  "kernelspec": {
   "display_name": "Python 3",
   "language": "python",
   "name": "python3"
  },
  "language_info": {
   "codemirror_mode": {
    "name": "ipython",
    "version": 3
   },
   "file_extension": ".py",
   "mimetype": "text/x-python",
   "name": "python",
   "nbconvert_exporter": "python",
   "pygments_lexer": "ipython3",
   "version": "3.7.4"
  }
 },
 "nbformat": 4,
 "nbformat_minor": 4
}
