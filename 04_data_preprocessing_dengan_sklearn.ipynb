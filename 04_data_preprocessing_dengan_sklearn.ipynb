{
 "cells": [
  {
   "cell_type": "markdown",
   "metadata": {
    "slideshow": {
     "slide_type": "slide"
    }
   },
   "source": [
    "# 04 Data Preprocessing dengan Scikit-Learn\n",
    "\n",
    "Rangkuman Pembelajaran diambil dari https://www.youtube.com/watch?v=smNnhEd26Ek"
   ]
  },
  {
   "cell_type": "markdown",
   "metadata": {
    "slideshow": {
     "slide_type": "slide"
    }
   },
   "source": [
    "## Sample Dataset"
   ]
  },
  {
   "cell_type": "code",
   "execution_count": 1,
   "metadata": {},
   "outputs": [
    {
     "data": {
      "text/plain": [
       "array([[ 2.1, -1.9,  5.5],\n",
       "       [-1.5,  2.4,  3.5],\n",
       "       [ 0.5, -7.9,  5.6],\n",
       "       [ 5.9,  2.3, -5.8]])"
      ]
     },
     "execution_count": 1,
     "metadata": {},
     "output_type": "execute_result"
    }
   ],
   "source": [
    "import numpy as np\n",
    "from sklearn import preprocessing\n",
    "\n",
    "sample_data = np.array([[2.1, -1.9, 5.5], \n",
    "                        [-1.5, 2.4, 3.5], \n",
    "                        [0.5, -7.9, 5.6],\n",
    "                        [5.9, 2.3, -5.8]])\n",
    "\n",
    "sample_data\n",
    "\n",
    "#dataset dibentuk sebagai numpy Array."
   ]
  },
  {
   "cell_type": "markdown",
   "metadata": {},
   "source": [
    "Pada kasus ini, pada variabel tampung sample_data terdapat data set Dummy untuk digunakan sebagai kasus pembelajaran. \n",
    "\n",
    "Dataset yang dihasilkan  \n",
    "array([[ 2.1, -1.9,  5.5],\n",
    "       [-1.5,  2.4,  3.5],\n",
    "       [ 0.5, -7.9,  5.6],\n",
    "       [ 5.9,  2.3, -5.8]])\n",
    "dapat kita pandang sebagai dataset features dengan jumlah instances/baris yang berjumlah 4 dan terbagi dalam 3 features/kolom. Features ditampung dalam variabel sample_data. "
   ]
  },
  {
   "cell_type": "code",
   "execution_count": 2,
   "metadata": {},
   "outputs": [
    {
     "data": {
      "text/plain": [
       "(4, 3)"
      ]
     },
     "execution_count": 2,
     "metadata": {},
     "output_type": "execute_result"
    }
   ],
   "source": [
    "sample_data.shape"
   ]
  },
  {
   "cell_type": "markdown",
   "metadata": {},
   "source": [
    "sample_data.shape berfungsi melihat dimensi dari dataset kita. \n",
    "Hasilnya menunjukkan (4,3) yang berarti jumlah instancesnya ada 4 dan jumlah featuresnya ada 3. "
   ]
  },
  {
   "cell_type": "markdown",
   "metadata": {
    "slideshow": {
     "slide_type": "slide"
    }
   },
   "source": [
    "## Binarisation\n",
    "\n",
    "Teknik Data Preprocessing 1 "
   ]
  },
  {
   "cell_type": "code",
   "execution_count": null,
   "metadata": {},
   "outputs": [],
   "source": [
    "Tujuan dari Teknik Binarisation adalah untuk menghasilkan suatu data yang terdiri dari dua nilai numerik saja yaitu 0 dan 1."
   ]
  },
  {
   "cell_type": "code",
   "execution_count": 3,
   "metadata": {},
   "outputs": [
    {
     "data": {
      "text/plain": [
       "array([[ 2.1, -1.9,  5.5],\n",
       "       [-1.5,  2.4,  3.5],\n",
       "       [ 0.5, -7.9,  5.6],\n",
       "       [ 5.9,  2.3, -5.8]])"
      ]
     },
     "execution_count": 3,
     "metadata": {},
     "output_type": "execute_result"
    }
   ],
   "source": [
    "sample_data"
   ]
  },
  {
   "cell_type": "code",
   "execution_count": 4,
   "metadata": {},
   "outputs": [
    {
     "data": {
      "text/plain": [
       "array([[1., 0., 1.],\n",
       "       [0., 1., 1.],\n",
       "       [0., 0., 1.],\n",
       "       [1., 1., 0.]])"
      ]
     },
     "execution_count": 4,
     "metadata": {},
     "output_type": "execute_result"
    }
   ],
   "source": [
    "preprocessor = preprocessing.Binarizer(threshold=0.5)\n",
    "binarised_data = preprocessor.transform(sample_data)\n",
    "binarised_data"
   ]
  },
  {
   "cell_type": "markdown",
   "metadata": {},
   "source": [
    "preproceesing.Binarizer(threshold=0.5) berfungsi untuk membentuk objek dan kita juga akan menyertakan satu buah parameter (threshold=0.5) dan kita akan menampungnya kedalam sebuah variabel yakni preprocessor. \n",
    "\n",
    "preprocessor.transform(sample_data) berfungsi untuk melakukan transformasi terhadap sample_data yang telah kita buat. Hasil transformasi kita tambung kedalam variabel binarised_data. \n",
    "\n",
    "Hasil dari transform menghasilkan dataset yang hanya terdiri dari 2 nilai yaitu 0 dan 1. Batasannya ditentukan oleh nilai threshold. Dalam kasus ini kita menggunakan nilai threshold 0.5 yang artinya setiap nilai kurang dari (<) atau kurang dari sama dengan (<=) 0.5 akan dikonversi menjadi nilai 0. Sedangkan untuk nilai yang lebih dari (>) 0.5 akan dikonversi menjadi nilai 1."
   ]
  },
  {
   "cell_type": "markdown",
   "metadata": {
    "slideshow": {
     "slide_type": "slide"
    }
   },
   "source": [
    "## Scaling\n",
    "\n",
    "Teknik Data Preprocessing 2"
   ]
  },
  {
   "cell_type": "markdown",
   "metadata": {},
   "source": [
    "Tujuan dari teknik data scaling adalah untuk menghasilkan suatu data numerik yang berada dalam rentang skala tertentu."
   ]
  },
  {
   "cell_type": "code",
   "execution_count": 5,
   "metadata": {},
   "outputs": [
    {
     "data": {
      "text/plain": [
       "array([[ 2.1, -1.9,  5.5],\n",
       "       [-1.5,  2.4,  3.5],\n",
       "       [ 0.5, -7.9,  5.6],\n",
       "       [ 5.9,  2.3, -5.8]])"
      ]
     },
     "execution_count": 5,
     "metadata": {},
     "output_type": "execute_result"
    }
   ],
   "source": [
    "sample_data"
   ]
  },
  {
   "cell_type": "code",
   "execution_count": 6,
   "metadata": {},
   "outputs": [
    {
     "data": {
      "text/plain": [
       "array([[0.48648649, 0.58252427, 0.99122807],\n",
       "       [0.        , 1.        , 0.81578947],\n",
       "       [0.27027027, 0.        , 1.        ],\n",
       "       [1.        , 0.99029126, 0.        ]])"
      ]
     },
     "execution_count": 6,
     "metadata": {},
     "output_type": "execute_result"
    }
   ],
   "source": [
    "preprocessor = preprocessing.MinMaxScaler(feature_range=(0, 1))\n",
    "preprocessor.fit(sample_data)\n",
    "scaled_data = preprocessor.transform(sample_data)\n",
    "scaled_data\n",
    "\n",
    "#parameter feature_range membutuhkan data bertipe tuple yang akan memuat dua nilai. "
   ]
  },
  {
   "cell_type": "markdown",
   "metadata": {},
   "source": [
    "Pemanggilan preprocessing.MinMaxScaler(feature_range=(0, 1)) akan membentuk objek scaler yang kita tampung kedalam objek preprocessor. Setelah proses tersebut makan akan dilakukan proses fit. Caranya adalah dengan memanggil fungsi preprocessor.fit(sample_data). Setelah scalernya telah di fit terhadap sample_data kita maka scaler dapat digunakan untuk melakukan proses transformasi data. \n",
    "\n",
    "Untuk melakukan proses transformasi kita gunakan preprocessor.transform(sample_data) yang ditampung dalam variabel variabel scaled_data. \n",
    "\n",
    "Kesimpulan yang didapat:\n",
    "Proses MinMaxScaler digunakan untuk mengubah skala nilai terkecil dan nilai terbesar dari dataset yang kita miliki ke skala tertentu. "
   ]
  },
  {
   "cell_type": "code",
   "execution_count": 7,
   "metadata": {},
   "outputs": [
    {
     "data": {
      "text/plain": [
       "array([[0.48648649, 0.58252427, 0.99122807],\n",
       "       [0.        , 1.        , 0.81578947],\n",
       "       [0.27027027, 0.        , 1.        ],\n",
       "       [1.        , 0.99029126, 0.        ]])"
      ]
     },
     "execution_count": 7,
     "metadata": {},
     "output_type": "execute_result"
    }
   ],
   "source": [
    "scaled_data = preprocessor.fit_transform(sample_data)\n",
    "scaled_data"
   ]
  },
  {
   "cell_type": "markdown",
   "metadata": {},
   "source": [
    "scaled_data = preprocessor.fit_transform(sample_data), dalam method ini menunjukkan bahwa proses fitting dan transform dikenakan pada data yang sama (sample_data). method ini menggabungkan proses fitting dan transform (1x pemanggilan). "
   ]
  },
  {
   "cell_type": "markdown",
   "metadata": {
    "slideshow": {
     "slide_type": "slide"
    }
   },
   "source": [
    "## L1 Normalisation: Least Absolute Deviations \n",
    "\n",
    "Referensi: [https://en.wikipedia.org/wiki/Least_absolute_deviations](https://en.wikipedia.org/wiki/Least_absolute_deviations)\n",
    "\n",
    "Teknik Data Preprocessing ke 3"
   ]
  },
  {
   "cell_type": "markdown",
   "metadata": {},
   "source": [
    "Tujuan dari teknik ini adalah untuk melakukan normalisasi terhadap data numerik yang kita miliki. "
   ]
  },
  {
   "cell_type": "code",
   "execution_count": 8,
   "metadata": {},
   "outputs": [
    {
     "data": {
      "text/plain": [
       "array([[ 2.1, -1.9,  5.5],\n",
       "       [-1.5,  2.4,  3.5],\n",
       "       [ 0.5, -7.9,  5.6],\n",
       "       [ 5.9,  2.3, -5.8]])"
      ]
     },
     "execution_count": 8,
     "metadata": {},
     "output_type": "execute_result"
    }
   ],
   "source": [
    "sample_data"
   ]
  },
  {
   "cell_type": "code",
   "execution_count": 9,
   "metadata": {},
   "outputs": [
    {
     "data": {
      "text/plain": [
       "array([[ 0.22105263, -0.2       ,  0.57894737],\n",
       "       [-0.2027027 ,  0.32432432,  0.47297297],\n",
       "       [ 0.03571429, -0.56428571,  0.4       ],\n",
       "       [ 0.42142857,  0.16428571, -0.41428571]])"
      ]
     },
     "execution_count": 9,
     "metadata": {},
     "output_type": "execute_result"
    }
   ],
   "source": [
    "l1_normalised_data = preprocessing.normalize(sample_data, norm='l1')\n",
    "l1_normalised_data"
   ]
  },
  {
   "cell_type": "markdown",
   "metadata": {},
   "source": [
    "preprocessing.normalize membutuhkan dua parameter : \n",
    "    1. Parameter pertama adalah datanya atau sample datanya\n",
    "    2. Parameter kedua adalah parameter norm\n",
    "\n",
    "Pemanggilan preprocessing.normalize akan menghasilkan data yang ternormalisasi. Data yang sudah dinormalisasi kita tampung kedalam l1_normalised_data. "
   ]
  },
  {
   "cell_type": "markdown",
   "metadata": {
    "slideshow": {
     "slide_type": "slide"
    }
   },
   "source": [
    "## L2 Normalisation: Least Squares\n",
    "\n",
    "Referensi: [https://en.wikipedia.org/wiki/Least_squares](https://en.wikipedia.org/wiki/Least_squares)\n",
    "\n",
    "Teknik Data Preprocessing ke 4"
   ]
  },
  {
   "cell_type": "code",
   "execution_count": 10,
   "metadata": {},
   "outputs": [
    {
     "data": {
      "text/plain": [
       "array([[ 2.1, -1.9,  5.5],\n",
       "       [-1.5,  2.4,  3.5],\n",
       "       [ 0.5, -7.9,  5.6],\n",
       "       [ 5.9,  2.3, -5.8]])"
      ]
     },
     "execution_count": 10,
     "metadata": {},
     "output_type": "execute_result"
    }
   ],
   "source": [
    "sample_data"
   ]
  },
  {
   "cell_type": "code",
   "execution_count": 11,
   "metadata": {},
   "outputs": [
    {
     "data": {
      "text/plain": [
       "array([[ 0.33946114, -0.30713151,  0.88906489],\n",
       "       [-0.33325106,  0.53320169,  0.7775858 ],\n",
       "       [ 0.05156558, -0.81473612,  0.57753446],\n",
       "       [ 0.68706914,  0.26784051, -0.6754239 ]])"
      ]
     },
     "execution_count": 11,
     "metadata": {},
     "output_type": "execute_result"
    }
   ],
   "source": [
    "l2_normalised_data = preprocessing.normalize(sample_data, norm='l2')\n",
    "l2_normalised_data"
   ]
  },
  {
   "cell_type": "markdown",
   "metadata": {},
   "source": [
    "preprocessing.normalize membutuhkan dua parameter : \n",
    "    1. Parameter pertama adalah datanya atau sample datanya\n",
    "    2. Parameter kedua adalah parameter norm\n",
    "\n",
    "Pemanggilan preprocessing.normalize akan menghasilkan data yang ternormalisasi. Data yang sudah dinormalisasi kita tampung kedalam l2_normalised_data. Untuk kasus ini data yang ternormalisasi berbentuk Least Squares. "
   ]
  }
 ],
 "metadata": {
  "celltoolbar": "Slideshow",
  "kernelspec": {
   "display_name": "Python 3",
   "language": "python",
   "name": "python3"
  },
  "language_info": {
   "codemirror_mode": {
    "name": "ipython",
    "version": 3
   },
   "file_extension": ".py",
   "mimetype": "text/x-python",
   "name": "python",
   "nbconvert_exporter": "python",
   "pygments_lexer": "ipython3",
   "version": "3.7.4"
  }
 },
 "nbformat": 4,
 "nbformat_minor": 4
}
